{
 "cells": [
  {
   "cell_type": "markdown",
   "metadata": {},
   "source": [
    "# Objectives\n",
    "\n",
    "* **Hands-on**\n",
    " * Syntax\n",
    " * Variables\n",
    " * Math Operators\n",
    " * Strings\n",
    " * Lists\n",
    " * Dictionaries\n",
    " * Control Flow & Loops\n",
    " * Functions\n",
    " * Classes/Objects\n",
    " * Modules \n",
    " * Packages and Libraries\n",
    " * Simple demo using Pandas and matplotlib for data manipulation and visuals<br><br>\n",
    "\n",
    "* **Future Topics**<br><br>\n",
    "\n",
    "* **Helpful hints & resources**"
   ]
  },
  {
   "cell_type": "markdown",
   "metadata": {},
   "source": [
    "# Introduction\n",
    "### What is Python\n",
    "* General purpose, object oriented, high level, interpreted language\n",
    " * *A scripting Language*\n",
    " * *An Interpreted Language*\n",
    " * *Object-oriented Language*\n",
    "\n",
    "* Simple, Portable, Open source & Powerful\n",
    "\n",
    "* Developed in early 90’s by **Guido Van Rossum**\n",
    "\n",
    "### Python vs Java\n",
    "* Dynamic vs Static Typing - Handling variables\n",
    "* Indentation vs Braces - Separate code into blocks\n",
    "* Terse vs Verbose - Number of lines of code\n",
    "* Easy to learn vs Steep learning curve\n",
    "* Use **Jython** - Java + Python \n",
    "\n",
    "### Where is Python used\n",
    "* Used extensively in web - Django, TurboGears, Plone, etc\n",
    "* Communicating with Databases - MySQL, Oracle, MongoDB, etc\n",
    "* Desktop GUI - GTK+, QT, TK, etc\n",
    "* Scientific computing - SciPy, Scientific Python, etc\n",
    "* Software Development - SCons, Buildbot, Roundup, etc\n",
    "* Games 3D graphics - Pygame, PyKyra, etc\n",
    "* For success stories - https://www.python.org/about/success\n",
    "\n",
    "### Ways to run python\n",
    "* Interactive Interpreter (Classic command line interpreter or Python Shell) - Run as a calculator or used to run a python program\n",
    "* Script from command line - Used to run a python program\n",
    "* General purpose Integrated Development Environment (IDE) - Eclipse, Netbeans, etc\n",
    "* Python dedicated IDEs like Pycharm, Spyder, IDLE\n",
    "* Web-based interactive computational environment like Jupyter Notebooks, Google Colaboratory, etc"
   ]
  },
  {
   "attachments": {
    "image.png": {
     "image/png": "[encoded data removed]"
    }
   },
   "cell_type": "markdown",
   "metadata": {},
   "source": [
    "<h5><center>Helpful Tips!</center></h5>\n",
    "\n",
    "![image.png](attachment:image.png)\n",
    "* **We are currently using a Jupyter Notebook on a Binder platform**<br>\n",
    "* **We will discuss how to create your own Jupyter Notebooks and the Jupyter environment in the Intermediate Python workshop**"
   ]
  },
  {
   "cell_type": "markdown",
   "metadata": {},
   "source": [
    "# Variables and Data Types\n",
    "\n",
    "### Variables\n",
    "* Stores a piece of data and gives it a specific name\n",
    "* Do not need to specify data type (No Declaration needed)\n",
    "* Equal sign **( = )** is used to assign values to variables"
   ]
  },
  {
   "cell_type": "code",
   "execution_count": null,
   "metadata": {
    "collapsed": true
   },
   "outputs": [],
   "source": [
    "v = 98"
   ]
  },
  {
   "cell_type": "markdown",
   "metadata": {},
   "source": [
    "**' v '** is the variable name\n",
    "<br>\n",
    "**' = '** is the assignment operator\n",
    "<br>\n",
    "**98** is the value\n",
    "\n",
    "#### Variable names\n",
    "* No spaces allowed (Use underscore or init caps, example - 'my_name' or 'myName')\n",
    "* No special symbols or characters like '\"@#%^&()-/\\* except the underscore '_'\n",
    "* Cannot begin with a number but may have a number within the variable name\n",
    "* The python community by convention begin variable names with small letters but caps are allowed anywhere else"
   ]
  },
  {
   "cell_type": "code",
   "execution_count": null,
   "metadata": {
    "collapsed": true
   },
   "outputs": [],
   "source": [
    "my_name = 'Joshua Anoint'"
   ]
  },
  {
   "cell_type": "code",
   "execution_count": null,
   "metadata": {
    "collapsed": true
   },
   "outputs": [],
   "source": [
    "v_1 = 8\n",
    "v_2 = 9"
   ]
  },
  {
   "cell_type": "markdown",
   "metadata": {},
   "source": [
    "#### Using a variable\n",
    "To use a variable, just type out the variable name. \n",
    "<br>\n",
    "See examples below"
   ]
  },
  {
   "cell_type": "code",
   "execution_count": null,
   "metadata": {
    "collapsed": true
   },
   "outputs": [],
   "source": [
    "print(my_name)"
   ]
  },
  {
   "cell_type": "code",
   "execution_count": null,
   "metadata": {
    "collapsed": true
   },
   "outputs": [],
   "source": [
    "age = v_1 + v_2"
   ]
  },
  {
   "cell_type": "code",
   "execution_count": null,
   "metadata": {
    "collapsed": true
   },
   "outputs": [],
   "source": [
    "print ('I am', age, 'years old')"
   ]
  },
  {
   "attachments": {
    "image.png": {
     "image/png": "[encoded data removed]"
    }
   },
   "cell_type": "markdown",
   "metadata": {},
   "source": [
    "<h5><center>Helpful Tips!</center></h5>\n",
    "\n",
    "![image.png](attachment:image.png)\n",
    "\n",
    "1. **'print'** is a function that displays its arguments (inputs). It can take multiple arguments (inputs) seperated by commas '**,**'.\n",
    "2. **'print'** in Python 2 can do without paranthesis around the argument. Example: **print ( ' I am ', age, 'years old' )** and **print 'I am', age, 'years old'** are both acceptable in Python 2\n",
    "3. Paranthesis are compulsory for Python 3\n",
    "<br>\n",
    "NB: We will introduce **functions** into more details later"
   ]
  },
  {
   "cell_type": "markdown",
   "metadata": {},
   "source": [
    "### Data types\n",
    "Data Types are implied. They do not have to be declared\n",
    "* Numberical types - int,long,float,complex\n",
    "* Boolean - True, False\n",
    "* String\n",
    "* List\n",
    "* Tuple\n",
    "* Dictionary "
   ]
  },
  {
   "cell_type": "markdown",
   "metadata": {},
   "source": [
    "# Math Operators"
   ]
  },
  {
   "cell_type": "markdown",
   "metadata": {},
   "source": [
    "#### Addition ( + )"
   ]
  },
  {
   "cell_type": "code",
   "execution_count": null,
   "metadata": {
    "collapsed": true
   },
   "outputs": [],
   "source": [
    "2+3"
   ]
  },
  {
   "cell_type": "markdown",
   "metadata": {},
   "source": [
    "#### Substraction ( - )"
   ]
  },
  {
   "cell_type": "code",
   "execution_count": null,
   "metadata": {
    "collapsed": true
   },
   "outputs": [],
   "source": [
    "9-3"
   ]
  },
  {
   "cell_type": "markdown",
   "metadata": {},
   "source": [
    "#### Multiplication ( * )"
   ]
  },
  {
   "cell_type": "code",
   "execution_count": null,
   "metadata": {
    "collapsed": true
   },
   "outputs": [],
   "source": [
    "3*8"
   ]
  },
  {
   "cell_type": "markdown",
   "metadata": {},
   "source": [
    "#### Division( / )"
   ]
  },
  {
   "cell_type": "code",
   "execution_count": null,
   "metadata": {
    "collapsed": true
   },
   "outputs": [],
   "source": [
    "3/2"
   ]
  },
  {
   "cell_type": "markdown",
   "metadata": {},
   "source": [
    "#### Modulus( % )"
   ]
  },
  {
   "cell_type": "code",
   "execution_count": null,
   "metadata": {
    "collapsed": true
   },
   "outputs": [],
   "source": [
    "9%5"
   ]
  },
  {
   "cell_type": "markdown",
   "metadata": {},
   "source": [
    "#### Exponent( ** )"
   ]
  },
  {
   "cell_type": "code",
   "execution_count": null,
   "metadata": {
    "collapsed": true
   },
   "outputs": [],
   "source": [
    "2**3"
   ]
  },
  {
   "cell_type": "markdown",
   "metadata": {},
   "source": [
    "#### Floor Division ( // )"
   ]
  },
  {
   "cell_type": "code",
   "execution_count": null,
   "metadata": {
    "collapsed": true
   },
   "outputs": [],
   "source": [
    "3//2"
   ]
  },
  {
   "cell_type": "markdown",
   "metadata": {},
   "source": [
    "# Comments\n",
    "* Single line commenting symbol is the hash symbol '#'\n",
    "* The interpreter ignores everything after #\n",
    "* Leave comments in your code to make it understandable to other team members and for youeself"
   ]
  },
  {
   "cell_type": "code",
   "execution_count": null,
   "metadata": {
    "collapsed": true
   },
   "outputs": [],
   "source": [
    "# This line is ignored"
   ]
  },
  {
   "cell_type": "markdown",
   "metadata": {},
   "source": [
    "* Multi-line - Not supported in Python but people use Triple quote (**Will show this later**)\n",
    "* Use the # on each line of a multiline comment"
   ]
  },
  {
   "cell_type": "code",
   "execution_count": null,
   "metadata": {
    "collapsed": true
   },
   "outputs": [],
   "source": [
    "# This is a multiline comment\n",
    "# This line and the line above are both ignored by the interpreter"
   ]
  },
  {
   "cell_type": "markdown",
   "metadata": {},
   "source": [
    "# Exercise 1\n",
    "#### Tip Calculator!!\n",
    "Cost of meal = 54.76\n",
    "<br>\n",
    "Tax = 7.85%\n",
    "<br>\n",
    "Tip = 15%\n",
    "<br>\n",
    "Find tax amount, cost after tax, tip amount, and total cost"
   ]
  },
  {
   "cell_type": "code",
   "execution_count": null,
   "metadata": {
    "collapsed": true
   },
   "outputs": [],
   "source": [
    "# Create a variable for cost of meal, tax and tip and assign their values\n",
    "# Note that percentage is not captured in programming languages. Divide by 100 instead. \n",
    "cost_of_meal = 54.76\n",
    "\n",
    "\n",
    "\n",
    "\n",
    "# Calculate tax amount by creating a variable for it and assign it to a formula using the variables for cost of meal and tax\n",
    "\n",
    "\n",
    "# Calculate cost after tax\n",
    "\n",
    "\n",
    "# Calculate tip amount\n",
    "# Hint: Calculate the tip amount the cost after tax\n",
    "\n",
    "\n",
    "# Calculate total amount\n",
    "\n",
    "\n",
    "print('My original meal cost is', cost_of_meal)\n",
    "\n",
    "# Follow the example above and print the tax amount\n",
    "\n",
    "\n",
    "# Print the cost after tax\n",
    "\n",
    "\n",
    "# Print the tip amount\n",
    "\n",
    "\n",
    "# Print the total cost of the meal\n",
    "\n"
   ]
  },
  {
   "cell_type": "markdown",
   "metadata": {},
   "source": [
    "# Strings\n",
    "Any strand of all characters on the keyboard put in quotation.\n",
    "#### One line strings - declared in single quotes (' ') or double quotes (\" \")\n",
    "Single and double quotes can be used interchangeably"
   ]
  },
  {
   "cell_type": "code",
   "execution_count": null,
   "metadata": {
    "collapsed": true
   },
   "outputs": [],
   "source": [
    "name_1 = 'Joshua Anoint'\n",
    "name_2 = \"Dag Heward-Mills\""
   ]
  },
  {
   "cell_type": "code",
   "execution_count": null,
   "metadata": {
    "collapsed": true
   },
   "outputs": [],
   "source": [
    "# this is a string and not an integer\n",
    "age = '2'"
   ]
  },
  {
   "cell_type": "code",
   "execution_count": null,
   "metadata": {
    "collapsed": true
   },
   "outputs": [],
   "source": [
    "# Start with a double quote if you a single quote in your string\n",
    "f = \"This is Del's pencil\""
   ]
  },
  {
   "cell_type": "code",
   "execution_count": null,
   "metadata": {
    "collapsed": true
   },
   "outputs": [],
   "source": [
    "# Start with a single quote if you a double quote in your string\n",
    "f = 'Enoch said \"This my pencil\"'"
   ]
  },
  {
   "cell_type": "code",
   "execution_count": null,
   "metadata": {
    "collapsed": true
   },
   "outputs": [],
   "source": [
    "print (f)"
   ]
  },
  {
   "cell_type": "markdown",
   "metadata": {},
   "source": [
    "#### Multiple lines strings - declared in triple quotes ( \"\"\" \"\"\" or ''' ''' )"
   ]
  },
  {
   "cell_type": "code",
   "execution_count": null,
   "metadata": {
    "collapsed": true
   },
   "outputs": [],
   "source": [
    "eg = \"\"\"I am in the CEAS library in a \n",
    "Introduction to Python session and some \n",
    "visualization\"\"\""
   ]
  },
  {
   "cell_type": "code",
   "execution_count": null,
   "metadata": {
    "collapsed": true
   },
   "outputs": [],
   "source": [
    "print(eg)"
   ]
  },
  {
   "cell_type": "markdown",
   "metadata": {},
   "source": [
    "### String Indexing\n",
    "**Each character can be accessed by using their index starting from index 0**"
   ]
  },
  {
   "cell_type": "code",
   "execution_count": null,
   "metadata": {
    "collapsed": true
   },
   "outputs": [],
   "source": [
    "name = 'Joshua Anoint'"
   ]
  },
  {
   "cell_type": "code",
   "execution_count": null,
   "metadata": {
    "collapsed": true
   },
   "outputs": [],
   "source": [
    "name[0]"
   ]
  },
  {
   "cell_type": "code",
   "execution_count": null,
   "metadata": {
    "collapsed": true
   },
   "outputs": [],
   "source": [
    "name[1]"
   ]
  },
  {
   "cell_type": "code",
   "execution_count": null,
   "metadata": {
    "collapsed": true
   },
   "outputs": [],
   "source": [
    "name[6]"
   ]
  },
  {
   "cell_type": "code",
   "execution_count": null,
   "metadata": {
    "collapsed": true
   },
   "outputs": [],
   "source": [
    "name[12]"
   ]
  },
  {
   "cell_type": "markdown",
   "metadata": {},
   "source": [
    "**You can start indexing from the right side with negative indexes starting with index -1**"
   ]
  },
  {
   "cell_type": "code",
   "execution_count": null,
   "metadata": {
    "collapsed": true
   },
   "outputs": [],
   "source": [
    "name[-1]"
   ]
  },
  {
   "cell_type": "code",
   "execution_count": null,
   "metadata": {
    "collapsed": true
   },
   "outputs": [],
   "source": [
    "name[-2]"
   ]
  },
  {
   "cell_type": "code",
   "execution_count": null,
   "metadata": {
    "collapsed": true
   },
   "outputs": [],
   "source": [
    "name[-13]"
   ]
  },
  {
   "cell_type": "markdown",
   "metadata": {},
   "source": [
    "### Slicing\n",
    "**You can extract a range os characters**\n",
    "<br>\n",
    "Assume a string varaiable called **'var'**\n",
    "<br>\n",
    "**var[starting index : ending index + 1]**"
   ]
  },
  {
   "cell_type": "code",
   "execution_count": null,
   "metadata": {
    "collapsed": true
   },
   "outputs": [],
   "source": [
    "name"
   ]
  },
  {
   "cell_type": "code",
   "execution_count": null,
   "metadata": {
    "collapsed": true
   },
   "outputs": [],
   "source": [
    "name[0:6]"
   ]
  },
  {
   "cell_type": "code",
   "execution_count": null,
   "metadata": {
    "collapsed": true
   },
   "outputs": [],
   "source": [
    "name[7:13]"
   ]
  },
  {
   "cell_type": "code",
   "execution_count": null,
   "metadata": {
    "collapsed": true
   },
   "outputs": [],
   "source": [
    "name[1:4]"
   ]
  },
  {
   "attachments": {
    "image.png": {
     "image/png": "[encoded data removed]"
    }
   },
   "cell_type": "markdown",
   "metadata": {},
   "source": [
    "<h5><center>Helpful Tips!</center></h5>\n",
    "\n",
    "![image.png](attachment:image.png)\n",
    "**Strings are \"IMMUTABLE\"**\n",
    "Once you create a string object, you cannot change a particular string location.\n",
    "<br>\n",
    "**name[6] = 'c'** \n",
    "<br>\n",
    "will result in the error below\n",
    "\n",
    "TypeError                                 Traceback (most recent call last)\n",
    "<br>\n",
    "< ipython-input-44-d47a2608aba2 > in < module >()\n",
    "<br>\n",
    "----> 1 name[6]='-'\n",
    "<br>\n",
    "TypeError: 'str' object does not support item assignment\n"
   ]
  },
  {
   "cell_type": "markdown",
   "metadata": {},
   "source": [
    "### Some String functions and Methods\n",
    "\n",
    "**Length of string**"
   ]
  },
  {
   "cell_type": "code",
   "execution_count": null,
   "metadata": {
    "collapsed": true
   },
   "outputs": [],
   "source": [
    "len(name)"
   ]
  },
  {
   "cell_type": "markdown",
   "metadata": {},
   "source": [
    "**Convert to string**"
   ]
  },
  {
   "cell_type": "code",
   "execution_count": null,
   "metadata": {
    "collapsed": true
   },
   "outputs": [],
   "source": [
    "age = 3"
   ]
  },
  {
   "cell_type": "code",
   "execution_count": null,
   "metadata": {
    "collapsed": true
   },
   "outputs": [],
   "source": [
    "str(age)"
   ]
  },
  {
   "cell_type": "markdown",
   "metadata": {},
   "source": [
    "**Convert to lower case**"
   ]
  },
  {
   "cell_type": "code",
   "execution_count": null,
   "metadata": {
    "collapsed": true
   },
   "outputs": [],
   "source": [
    "name.lower()"
   ]
  },
  {
   "cell_type": "markdown",
   "metadata": {},
   "source": [
    "Convert to upper case"
   ]
  },
  {
   "cell_type": "code",
   "execution_count": null,
   "metadata": {
    "collapsed": true
   },
   "outputs": [],
   "source": [
    "name.upper()"
   ]
  },
  {
   "cell_type": "markdown",
   "metadata": {},
   "source": [
    "**Is digit/Is apha**\n",
    "\n",
    "Output is a Boolean value (True/False)"
   ]
  },
  {
   "cell_type": "code",
   "execution_count": null,
   "metadata": {
    "collapsed": true
   },
   "outputs": [],
   "source": [
    "name = 'Enoch'"
   ]
  },
  {
   "cell_type": "code",
   "execution_count": null,
   "metadata": {
    "collapsed": true
   },
   "outputs": [],
   "source": [
    "name.isdigit()"
   ]
  },
  {
   "cell_type": "code",
   "execution_count": null,
   "metadata": {
    "collapsed": true
   },
   "outputs": [],
   "source": [
    "name.isalpha()"
   ]
  },
  {
   "cell_type": "code",
   "execution_count": null,
   "metadata": {
    "collapsed": true
   },
   "outputs": [],
   "source": [
    "str(age).isdigit()"
   ]
  },
  {
   "cell_type": "markdown",
   "metadata": {},
   "source": [
    "**Replace characters**"
   ]
  },
  {
   "cell_type": "code",
   "execution_count": null,
   "metadata": {
    "collapsed": true
   },
   "outputs": [],
   "source": [
    "name.replace('h','k')"
   ]
  },
  {
   "cell_type": "markdown",
   "metadata": {},
   "source": [
    "**Split a string using a delimiter character**"
   ]
  },
  {
   "cell_type": "code",
   "execution_count": null,
   "metadata": {
    "collapsed": true
   },
   "outputs": [],
   "source": [
    "text = 'I am going to the University of Cincinnati'\n",
    "name = \"Dag Heward-Mills\""
   ]
  },
  {
   "cell_type": "code",
   "execution_count": null,
   "metadata": {
    "collapsed": true
   },
   "outputs": [],
   "source": [
    "text.split(' ')"
   ]
  },
  {
   "cell_type": "code",
   "execution_count": null,
   "metadata": {
    "collapsed": true
   },
   "outputs": [],
   "source": [
    "name.split('-')"
   ]
  },
  {
   "cell_type": "markdown",
   "metadata": {},
   "source": [
    "### String Concatenation\n",
    "**Combining of strings is done by using the (+) operator between them**"
   ]
  },
  {
   "cell_type": "code",
   "execution_count": null,
   "metadata": {
    "collapsed": true
   },
   "outputs": [],
   "source": [
    "string1 = 'My name is '\n",
    "name = 'Kwame'\n",
    "string2 = string1 + name\n",
    "print(string2)"
   ]
  },
  {
   "cell_type": "markdown",
   "metadata": {},
   "source": [
    "**In order to combine a string with a non-string variable, use str( ) method to convert non-strings to strings**\n",
    "<br>\n",
    "You cannot concactenate a string with a non-string type without converting the non-string type to a string.\n",
    "<br>\n",
    "No conversion will result in error similar tp the error below\n",
    "\n",
    "TypeError                                 Traceback (most recent call last)\n",
    "<br>\n",
    "< ipython-input-77-887da7680fd9 > in < module >( )\n",
    "<br>\n",
    "----> 1 string1 + 9\n",
    "<br>\n",
    "TypeError: must be str, not int"
   ]
  },
  {
   "cell_type": "code",
   "execution_count": null,
   "metadata": {
    "collapsed": true
   },
   "outputs": [],
   "source": [
    "string1 = 'My name is '\n",
    "name = 'Kwame '\n",
    "age = 16\n",
    "string2 = string1 + name + 'I am ' + str(age) + ' years old'\n",
    "print(string2)"
   ]
  },
  {
   "cell_type": "markdown",
   "metadata": {},
   "source": [
    "# Lists\n",
    "* A datatype that can store a collection of different pieces of information as a sequence under a single variable name\n",
    "* **Creating lists** - Put comma separated values within square brackets. Values can be of diffrent data types"
   ]
  },
  {
   "cell_type": "code",
   "execution_count": null,
   "metadata": {
    "collapsed": true
   },
   "outputs": [],
   "source": [
    "list1 = ['physics','astronomy',56.98,'MJ',-9.36]\n",
    "\n",
    "# list within a list\n",
    "list2 = ['chemistry','biology',77.98,[3,4,65],'EE',-56]"
   ]
  },
  {
   "cell_type": "markdown",
   "metadata": {},
   "source": [
    "### Accessing values via indexing\n",
    "* Same as String objects. \n",
    "* Elements or a range of elements can be accessed by index"
   ]
  },
  {
   "cell_type": "code",
   "execution_count": null,
   "metadata": {
    "collapsed": true
   },
   "outputs": [],
   "source": [
    "list1[0]"
   ]
  },
  {
   "cell_type": "code",
   "execution_count": null,
   "metadata": {
    "collapsed": true
   },
   "outputs": [],
   "source": [
    "list1[1]"
   ]
  },
  {
   "cell_type": "code",
   "execution_count": null,
   "metadata": {
    "collapsed": true
   },
   "outputs": [],
   "source": [
    "list1[4]"
   ]
  },
  {
   "cell_type": "code",
   "execution_count": null,
   "metadata": {
    "collapsed": true
   },
   "outputs": [],
   "source": [
    "list1[-1]"
   ]
  },
  {
   "cell_type": "code",
   "execution_count": null,
   "metadata": {
    "collapsed": true
   },
   "outputs": [],
   "source": [
    "list1[-2]"
   ]
  },
  {
   "cell_type": "code",
   "execution_count": null,
   "metadata": {
    "collapsed": true
   },
   "outputs": [],
   "source": [
    "list1[1][3]"
   ]
  },
  {
   "cell_type": "code",
   "execution_count": null,
   "metadata": {
    "collapsed": true
   },
   "outputs": [],
   "source": [
    "list2[3]"
   ]
  },
  {
   "cell_type": "code",
   "execution_count": null,
   "metadata": {
    "collapsed": true
   },
   "outputs": [],
   "source": [
    "list2[3][2]"
   ]
  },
  {
   "cell_type": "code",
   "execution_count": null,
   "metadata": {
    "collapsed": true
   },
   "outputs": [],
   "source": [
    "list1[0:4]"
   ]
  },
  {
   "cell_type": "code",
   "execution_count": null,
   "metadata": {
    "collapsed": true
   },
   "outputs": [],
   "source": [
    "list2[3:5]"
   ]
  },
  {
   "cell_type": "markdown",
   "metadata": {},
   "source": [
    "### List Concatenation\n",
    "**Can be done by using the (+) operator between two lists**"
   ]
  },
  {
   "cell_type": "code",
   "execution_count": null,
   "metadata": {
    "collapsed": true
   },
   "outputs": [],
   "source": [
    "[1,2,3] + [5,6,7]"
   ]
  },
  {
   "cell_type": "code",
   "execution_count": null,
   "metadata": {
    "collapsed": true
   },
   "outputs": [],
   "source": [
    "list1 + list2"
   ]
  },
  {
   "cell_type": "markdown",
   "metadata": {},
   "source": [
    "### Some List functions and Methods\n",
    "\n",
    "**Length of a list**"
   ]
  },
  {
   "cell_type": "code",
   "execution_count": null,
   "metadata": {
    "collapsed": true
   },
   "outputs": [],
   "source": [
    "len(list1)"
   ]
  },
  {
   "cell_type": "code",
   "execution_count": null,
   "metadata": {
    "collapsed": true
   },
   "outputs": [],
   "source": [
    "len(list2)"
   ]
  },
  {
   "cell_type": "markdown",
   "metadata": {},
   "source": [
    "**Maximum/Minimum value**"
   ]
  },
  {
   "cell_type": "code",
   "execution_count": null,
   "metadata": {
    "collapsed": true
   },
   "outputs": [],
   "source": [
    "list3 = [3,4,67,2,1] \n",
    "list4 = ['3','4','67','2','1','four','three']"
   ]
  },
  {
   "cell_type": "code",
   "execution_count": null,
   "metadata": {
    "collapsed": true
   },
   "outputs": [],
   "source": [
    "max(list3)"
   ]
  },
  {
   "cell_type": "code",
   "execution_count": null,
   "metadata": {
    "collapsed": true
   },
   "outputs": [],
   "source": [
    "max(list4)"
   ]
  },
  {
   "cell_type": "code",
   "execution_count": null,
   "metadata": {
    "collapsed": true
   },
   "outputs": [],
   "source": [
    "min(list4)"
   ]
  },
  {
   "cell_type": "markdown",
   "metadata": {},
   "source": [
    "**Append object to list**"
   ]
  },
  {
   "cell_type": "code",
   "execution_count": null,
   "metadata": {
    "collapsed": true
   },
   "outputs": [],
   "source": [
    "list4.append('two')\n",
    "list4.append('three')\n",
    "list4"
   ]
  },
  {
   "cell_type": "markdown",
   "metadata": {},
   "source": [
    "**Frequency of object**"
   ]
  },
  {
   "cell_type": "code",
   "execution_count": null,
   "metadata": {
    "collapsed": true
   },
   "outputs": [],
   "source": [
    "list4.count('three')"
   ]
  },
  {
   "cell_type": "markdown",
   "metadata": {},
   "source": [
    "**Return index**"
   ]
  },
  {
   "cell_type": "code",
   "execution_count": null,
   "metadata": {
    "collapsed": true
   },
   "outputs": [],
   "source": [
    "list4.index('1')"
   ]
  },
  {
   "cell_type": "markdown",
   "metadata": {},
   "source": [
    "**Insert object**"
   ]
  },
  {
   "cell_type": "code",
   "execution_count": null,
   "metadata": {
    "collapsed": true
   },
   "outputs": [],
   "source": [
    "list4.insert(3,56)\n",
    "list4"
   ]
  },
  {
   "cell_type": "markdown",
   "metadata": {},
   "source": [
    "**Delete object**\n",
    "\n",
    "*By Index position*"
   ]
  },
  {
   "cell_type": "code",
   "execution_count": null,
   "metadata": {
    "collapsed": true
   },
   "outputs": [],
   "source": [
    "list4.pop(3)"
   ]
  },
  {
   "cell_type": "code",
   "execution_count": null,
   "metadata": {
    "collapsed": true
   },
   "outputs": [],
   "source": [
    "list4"
   ]
  },
  {
   "cell_type": "markdown",
   "metadata": {},
   "source": [
    "*By element refrencing*"
   ]
  },
  {
   "cell_type": "code",
   "execution_count": null,
   "metadata": {
    "collapsed": true
   },
   "outputs": [],
   "source": [
    "list4.remove('67')"
   ]
  },
  {
   "cell_type": "code",
   "execution_count": null,
   "metadata": {
    "collapsed": true
   },
   "outputs": [],
   "source": [
    "list4"
   ]
  },
  {
   "cell_type": "markdown",
   "metadata": {},
   "source": [
    "**Reverse the list**"
   ]
  },
  {
   "cell_type": "code",
   "execution_count": null,
   "metadata": {
    "collapsed": true
   },
   "outputs": [],
   "source": [
    "list4.reverse()\n",
    "list4"
   ]
  },
  {
   "cell_type": "markdown",
   "metadata": {},
   "source": [
    "**Sort the list(natural order)**"
   ]
  },
  {
   "cell_type": "code",
   "execution_count": null,
   "metadata": {
    "collapsed": true
   },
   "outputs": [],
   "source": [
    "list4.sort()\n",
    "list4"
   ]
  },
  {
   "attachments": {
    "image.png": {
     "image/png": "[encoded data removed]"
    }
   },
   "cell_type": "markdown",
   "metadata": {},
   "source": [
    "<h5><center>Helpful Tips!</center></h5>\n",
    "\n",
    "![image.png](attachment:image.png)\n",
    "**Lists are \"MUTABLE\"**"
   ]
  },
  {
   "cell_type": "code",
   "execution_count": null,
   "metadata": {
    "collapsed": true
   },
   "outputs": [],
   "source": [
    "list4[5] = 5\n",
    "list4"
   ]
  },
  {
   "cell_type": "markdown",
   "metadata": {},
   "source": [
    "# Tuples\n",
    "**Tuples are sequences, just like lists except**\n",
    "* Tuples are immutable - cannot be changed or updated unlike lists\n",
    "* Tuples use parentheses ( ), whereas lists use square brackets [ ]"
   ]
  },
  {
   "cell_type": "code",
   "execution_count": null,
   "metadata": {
    "collapsed": true
   },
   "outputs": [],
   "source": [
    "tup = (3,4,67,2,1)"
   ]
  },
  {
   "cell_type": "markdown",
   "metadata": {},
   "source": [
    "**tup[2] = 8**\n",
    "<br>\n",
    "will result in the error below\n",
    "\n",
    "TypeError                                 Traceback (most recent call last)\n",
    "<br>\n",
    "< ipython-input-177-256383ac5724 > in < module >()\n",
    "<br>\n",
    "----> 1 tup[2] = 8\n",
    "<br>\n",
    "TypeError: 'tuple' object does not support item assignment"
   ]
  },
  {
   "cell_type": "markdown",
   "metadata": {},
   "source": [
    "# Dictionary"
   ]
  },
  {
   "cell_type": "markdown",
   "metadata": {},
   "source": [
    "* Similar to a list except values are accessed by looking up a **key** instead of an index\n",
    "* A key can be a string or number\n",
    "* **Creating dictionaries** - **key-value** pairs are separated by colons (**:**), items are separated by commas (**,**) and everything is enclosed in curly braces { }"
   ]
  },
  {
   "cell_type": "code",
   "execution_count": null,
   "metadata": {
    "collapsed": true
   },
   "outputs": [],
   "source": [
    "dict1 = {\"name\":\"Daniel\",\"age\":23,\"degree\":\"MS\"}\n",
    "dict2 = {'name':'Ian Cal','age':60,'job':'Car designer','brand':'Jaguar','worked-for':['Ford','TWR','Aston Martin']}"
   ]
  },
  {
   "cell_type": "markdown",
   "metadata": {},
   "source": [
    "* **Accessing values**"
   ]
  },
  {
   "cell_type": "code",
   "execution_count": null,
   "metadata": {
    "collapsed": true
   },
   "outputs": [],
   "source": [
    "dict1['age']"
   ]
  },
  {
   "cell_type": "code",
   "execution_count": null,
   "metadata": {
    "collapsed": true
   },
   "outputs": [],
   "source": [
    "dict2['worked-for']"
   ]
  },
  {
   "cell_type": "code",
   "execution_count": null,
   "metadata": {
    "collapsed": true
   },
   "outputs": [],
   "source": [
    "dict2['worked-for'][1]"
   ]
  },
  {
   "cell_type": "markdown",
   "metadata": {},
   "source": [
    "* **Updating dictionary** - Dictionaries are MUTABLE. \n",
    "<br>\n",
    "  You may **modify an existing entry** and **add new entry**"
   ]
  },
  {
   "cell_type": "code",
   "execution_count": null,
   "metadata": {
    "collapsed": true
   },
   "outputs": [],
   "source": [
    "dict1['subjects'] = [\"OS\",'DBMS','Artificial Intelligence']"
   ]
  },
  {
   "cell_type": "code",
   "execution_count": null,
   "metadata": {
    "collapsed": true
   },
   "outputs": [],
   "source": [
    "dict1"
   ]
  },
  {
   "cell_type": "code",
   "execution_count": null,
   "metadata": {
    "collapsed": true
   },
   "outputs": [],
   "source": [
    "dict1['degree']='Master of Science'"
   ]
  },
  {
   "cell_type": "code",
   "execution_count": null,
   "metadata": {
    "collapsed": true
   },
   "outputs": [],
   "source": [
    "dict1"
   ]
  },
  {
   "cell_type": "markdown",
   "metadata": {},
   "source": [
    "### Some Dictionary functions and Methods\n",
    "**Length of Dictionary**"
   ]
  },
  {
   "cell_type": "code",
   "execution_count": null,
   "metadata": {
    "collapsed": true
   },
   "outputs": [],
   "source": [
    "len(dict1)"
   ]
  },
  {
   "cell_type": "markdown",
   "metadata": {},
   "source": [
    "**Shallow copy**"
   ]
  },
  {
   "cell_type": "code",
   "execution_count": null,
   "metadata": {
    "collapsed": true
   },
   "outputs": [],
   "source": [
    "dict3 = dict1.copy()\n",
    "dict3"
   ]
  },
  {
   "cell_type": "markdown",
   "metadata": {},
   "source": [
    "**Return value with get method**"
   ]
  },
  {
   "cell_type": "code",
   "execution_count": null,
   "metadata": {
    "collapsed": true
   },
   "outputs": [],
   "source": [
    "dict1.get('name')"
   ]
  },
  {
   "cell_type": "markdown",
   "metadata": {},
   "source": [
    "**List of key-value pairs**"
   ]
  },
  {
   "cell_type": "code",
   "execution_count": null,
   "metadata": {
    "collapsed": true
   },
   "outputs": [],
   "source": [
    "dict1.items()"
   ]
  },
  {
   "cell_type": "markdown",
   "metadata": {},
   "source": [
    "**List of keys**"
   ]
  },
  {
   "cell_type": "code",
   "execution_count": null,
   "metadata": {
    "collapsed": true
   },
   "outputs": [],
   "source": [
    "dict1.keys()"
   ]
  },
  {
   "cell_type": "markdown",
   "metadata": {},
   "source": [
    "**List of values**"
   ]
  },
  {
   "cell_type": "code",
   "execution_count": null,
   "metadata": {
    "collapsed": true
   },
   "outputs": [],
   "source": [
    "dict1.values()"
   ]
  },
  {
   "cell_type": "markdown",
   "metadata": {},
   "source": [
    "<h1><center>5 MINUTES BREAK</center></h1>"
   ]
  },
  {
   "cell_type": "markdown",
   "metadata": {},
   "source": [
    "# Control Flow\n",
    "### Comparison Operators\n",
    "* Used to form Conditions\n",
    "* Generates Boolean Outputs"
   ]
  },
  {
   "cell_type": "code",
   "execution_count": null,
   "metadata": {
    "collapsed": true
   },
   "outputs": [],
   "source": [
    "a = 5\n",
    "b = 6\n",
    "name = 'Joshua'"
   ]
  },
  {
   "cell_type": "markdown",
   "metadata": {},
   "source": [
    "**Equal to (==)**"
   ]
  },
  {
   "cell_type": "code",
   "execution_count": null,
   "metadata": {
    "collapsed": true
   },
   "outputs": [],
   "source": [
    "a == 5"
   ]
  },
  {
   "cell_type": "code",
   "execution_count": null,
   "metadata": {
    "collapsed": true
   },
   "outputs": [],
   "source": [
    "a == b"
   ]
  },
  {
   "cell_type": "markdown",
   "metadata": {},
   "source": [
    "**Not equal to (!=)**"
   ]
  },
  {
   "cell_type": "code",
   "execution_count": null,
   "metadata": {
    "collapsed": true
   },
   "outputs": [],
   "source": [
    "a != b"
   ]
  },
  {
   "cell_type": "code",
   "execution_count": null,
   "metadata": {
    "collapsed": true
   },
   "outputs": [],
   "source": [
    "name != 'Joshua'"
   ]
  },
  {
   "cell_type": "markdown",
   "metadata": {},
   "source": [
    "**Less than (<) and Greater than (>)**"
   ]
  },
  {
   "cell_type": "code",
   "execution_count": null,
   "metadata": {
    "collapsed": true
   },
   "outputs": [],
   "source": [
    "a < b"
   ]
  },
  {
   "cell_type": "code",
   "execution_count": null,
   "metadata": {
    "collapsed": true
   },
   "outputs": [],
   "source": [
    "b > 7"
   ]
  },
  {
   "cell_type": "markdown",
   "metadata": {},
   "source": [
    "**Greater than or equal to (>=) and Less than or equal to (<=)**"
   ]
  },
  {
   "cell_type": "code",
   "execution_count": null,
   "metadata": {
    "collapsed": true
   },
   "outputs": [],
   "source": [
    "a <= 5"
   ]
  },
  {
   "cell_type": "code",
   "execution_count": null,
   "metadata": {
    "collapsed": true
   },
   "outputs": [],
   "source": [
    "b >= 7"
   ]
  },
  {
   "cell_type": "code",
   "execution_count": null,
   "metadata": {
    "collapsed": true
   },
   "outputs": [],
   "source": [
    "a"
   ]
  },
  {
   "cell_type": "markdown",
   "metadata": {},
   "source": [
    "### Logical Operators\n",
    "Combinational operators - Logical operators are used to combine Comparison statements and to negate the output of a Comparison statement.\n",
    "<br>\n",
    "Below are Logical operators supported by Python language. All other Logical operators cab be derived from these\n",
    "\n",
    "**Logical AND (and)**"
   ]
  },
  {
   "cell_type": "code",
   "execution_count": null,
   "metadata": {
    "collapsed": true
   },
   "outputs": [],
   "source": [
    "a <= 5 and a < b"
   ]
  },
  {
   "cell_type": "code",
   "execution_count": null,
   "metadata": {
    "collapsed": true
   },
   "outputs": [],
   "source": [
    "a <= 5 and b >= 7"
   ]
  },
  {
   "cell_type": "markdown",
   "metadata": {},
   "source": [
    "**Logical OR (or)**"
   ]
  },
  {
   "cell_type": "code",
   "execution_count": null,
   "metadata": {
    "collapsed": true
   },
   "outputs": [],
   "source": [
    "a <= 5 or a < b"
   ]
  },
  {
   "cell_type": "code",
   "execution_count": null,
   "metadata": {
    "collapsed": true
   },
   "outputs": [],
   "source": [
    "a <= 5 or b >= 7"
   ]
  },
  {
   "cell_type": "markdown",
   "metadata": {},
   "source": [
    "**Logical NOT (not)**"
   ]
  },
  {
   "cell_type": "code",
   "execution_count": null,
   "metadata": {
    "collapsed": true
   },
   "outputs": [],
   "source": [
    "not(a <= 5)"
   ]
  },
  {
   "attachments": {
    "image.png": {
     "image/png": "[encoded data removed]"
    }
   },
   "cell_type": "markdown",
   "metadata": {},
   "source": [
    "<h5><center>Helpful Tips!</center></h5>\n",
    "\n",
    "![image.png](attachment:image.png)\n",
    "**Note**: Precedence - **not, and, or**\n",
    "### If and else Decision Block\n",
    "#### If block \n",
    "* Consists of a Condition or Boolean expression followed by one or more statements.\n",
    "* If the Condition or Boolean expression is **True**, then the statement(s) are executed. If **False**, then then the statement(s) are skipped\n",
    "\n",
    "**if   < condition >:**\n",
    "<br>\n",
    "$\\;\\;\\;\\;\\;\\;$**statement(s)**"
   ]
  },
  {
   "cell_type": "code",
   "execution_count": null,
   "metadata": {
    "collapsed": true
   },
   "outputs": [],
   "source": [
    "a = 5\n",
    "if a <= 5:\n",
    "    print('\\'a\\' is equal to or less than 5')\n",
    "    print('This statement is also executed under the if block')"
   ]
  },
  {
   "cell_type": "code",
   "execution_count": null,
   "metadata": {
    "collapsed": true
   },
   "outputs": [],
   "source": [
    "if a <= 4:\n",
    "    print('\\'a\\' is equal to or less than 5')\n",
    "    print('This statement is also executed under the if block')\n",
    "print('DONE')"
   ]
  },
  {
   "attachments": {
    "image.png": {
     "image/png": "[encoded data removed]"
    }
   },
   "cell_type": "markdown",
   "metadata": {},
   "source": [
    "<h5><center>Helpful Tips!</center></h5>\n",
    "\n",
    "![image.png](attachment:image.png)\n",
    "\n",
    "**Python Blocks**\n",
    "* Every Python block like the **' if '** block is marked by a colon **' : '**\n",
    "* All the statements under the block must be indented under the block\n",
    "* Indentation must be consitent for each block and the whole python code\n",
    "\n",
    "#### If..else blocks\n",
    "* **' if '** block may be followed by an optional **' else '** block which executes when the Condition or Boolean expression is false\n",
    "* If the Condition or Boolean expression is **True**, then the statement(s) 1 are executed. If **False**, then then the statement(s) 2 are executed\n",
    "* The **' else '** block has no coditions attached\n",
    "* There can be only one **' if '** block and one **' else '** block \n",
    "\n",
    "**if   < condition >:**\n",
    "<br>\n",
    "$\\;\\;\\;\\;\\;\\;$**statement(s) 1**\n",
    "<br>\n",
    "**else:**\n",
    "<br>\n",
    "$\\;\\;\\;\\;\\;\\;$**statement(s) 2**"
   ]
  },
  {
   "cell_type": "code",
   "execution_count": null,
   "metadata": {
    "collapsed": true
   },
   "outputs": [],
   "source": [
    "a=6\n",
    "if a <= 5:\n",
    "    print('\\'a\\' is equal to or less than 5')\n",
    "    print('This statement is also executed under the if block')\n",
    "else:\n",
    "    print('\\'a\\' must be greater than 5')\n",
    "    print('This statement is also executed under the else block')\n",
    "print('DONE')"
   ]
  },
  {
   "cell_type": "markdown",
   "metadata": {},
   "source": [
    "#### If..elif..else blocks\n",
    "\n",
    "* **' if '** block may be followed by one or more optional **' elif '** (Else if) blocks and one optional **' else '** block\n",
    "* The **' if '** block and **' elif '** blocks must have coditions attached. The **' else '** block has no coditions attached\n",
    "* There can be only one **' if '** block and one **' else '** block. There can be more than one **' elif '** blocks. \n",
    "* If the Condition or Boolean expression under the **' if '** block is **True**, then the condition of the next **' elif '** block is examined. If **True**, the statement(s) 2 are executed. If **False**, the next **' elif '** block is examined until the statements under the **' else '** block are executed if an **' else '** block exists.  \n",
    "\n",
    "**if   < condition >:**\n",
    "<br>\n",
    "$\\;\\;\\;\\;\\;\\;$**statement(s) 1**\n",
    "<br>\n",
    "**elif   < condition >:**\n",
    "<br>\n",
    "$\\;\\;\\;\\;\\;\\;$**statement(s) 2**\n",
    "<br>\n",
    "**elif   < condition >:**\n",
    "<br>\n",
    "$\\;\\;\\;\\;\\;\\;$**statement(s) 3**\n",
    "<br>\n",
    "**else:**\n",
    "<br>\n",
    "$\\;\\;\\;\\;\\;\\;$**statement(s) 4**"
   ]
  },
  {
   "cell_type": "code",
   "execution_count": null,
   "metadata": {
    "collapsed": true
   },
   "outputs": [],
   "source": [
    "b=input('Type a number for \\'b\\': ')\n",
    "a=float(b)\n",
    "if a <= 5:\n",
    "    print('\\'a\\' is equal to or less than 5')\n",
    "elif a > 5 and a <= 8:\n",
    "    print('\\'a\\' is greater than 5 and less or equal to 8')\n",
    "elif a > 8 and a <= 10:\n",
    "    print('\\'a\\' is greater than 8 and less or equal to 10')\n",
    "else:\n",
    "    print('\\'a\\' must be greater than 10')\n",
    "print('DONE')"
   ]
  },
  {
   "attachments": {
    "image.png": {
     "image/png": "[encoded data removed]"
    }
   },
   "cell_type": "markdown",
   "metadata": {},
   "source": [
    "<h5><center>Helpful Tips!</center></h5>\n",
    "\n",
    "![image.png](attachment:image.png)\n",
    "\n",
    "**Hint for taking input from user**\n",
    "* Python 2 - **input ( ) function will return number**\n",
    "<br>\n",
    "$\\;\\;\\;\\;\\;\\;\\;\\;\\;\\;\\;\\;\\;$**raw_input ( ) function will return string**\n",
    "* Python 3 - **input ( ) function will return string**\n",
    "<br>\n",
    "$\\;\\;\\;\\;\\;\\;\\;\\;\\;\\;\\;\\;\\;$**raw_input ( ) is not available in Python 3. Use input and convert to a numerical type if needed**"
   ]
  },
  {
   "cell_type": "code",
   "execution_count": null,
   "metadata": {
    "collapsed": true
   },
   "outputs": [],
   "source": [
    "var = input('enter value: ')\n",
    "\n",
    "print(var)"
   ]
  },
  {
   "cell_type": "markdown",
   "metadata": {},
   "source": [
    "# Exercise 2\n",
    "#### UC 6+2 program\n",
    "Write a program to generate and print the UC 6+2 ID for a given first & last name.\n",
    "1. Take the user's first name and last name and store them in two different variables.\n",
    "2. If the length of the last name is >=6, take the first 6 letters from the last name & first and last letters from the first name to form the six plus two.\n",
    "3. If the length of the last name is <6, take all of the last name, pick first letters of first name to make up for the length the last name & first and last letters from the remainder of the first name\n",
    "4. Print out the six plus two in lower case"
   ]
  },
  {
   "cell_type": "code",
   "execution_count": null,
   "metadata": {
    "collapsed": true
   },
   "outputs": [],
   "source": [
    "# Take input for user's first name and store in a variable\n",
    "first_name = '' # Replace this line with the right code\n",
    "\n",
    "# Take input for user's last name and store in a variable\n",
    "last_name = '' # Replace this line with the right code\n",
    "\n",
    "\n",
    "\n",
    "# Use the appropriate If and else Decision Block with a condition that compares the Length of the Last name to 6\n",
    "# In the If and else Decision Block store the six plus two in a variable\n",
    "# Use the Tips below in your If and else Decision Block\n",
    "\n",
    "\n",
    "\n",
    "\n",
    "\n",
    "# Print out the six plus two in lower case\n",
    "\n",
    "\n",
    "\n",
    "# Tips (Replace the portions marked with ?)\n",
    "# ********************************************\n",
    "# For length of the last name is >=6, sixplus2 = last_name[0:?] + first_name[0] + first_name[?]\n",
    "# For length of the last name is <6, sixplus2 = last_name + first_name[0:(6-len(?)+1)] + first_name[?]"
   ]
  },
  {
   "cell_type": "markdown",
   "metadata": {},
   "source": [
    "### For loop\n",
    "* Each item in the sequence is assigned to the iterating variable and the statements are executed for each item until the entire sequence is exhausted.\n",
    "  \n",
    "  **for < iterating variable > in < sequence > :**\n",
    "  <br>\n",
    "  $\\;\\;\\;\\;\\;\\;$**statement(s)** "
   ]
  },
  {
   "cell_type": "code",
   "execution_count": null,
   "metadata": {
    "collapsed": true
   },
   "outputs": [],
   "source": [
    "for var in 'string':\n",
    "    print(var)"
   ]
  },
  {
   "cell_type": "code",
   "execution_count": null,
   "metadata": {
    "collapsed": true
   },
   "outputs": [],
   "source": [
    "k = 'string'\n",
    "for var in k:\n",
    "    print(var.upper())"
   ]
  },
  {
   "cell_type": "code",
   "execution_count": null,
   "metadata": {
    "collapsed": true
   },
   "outputs": [],
   "source": [
    "l = ['bannana','orange','mango']\n",
    "for fruit in l:\n",
    "    print(fruit)"
   ]
  },
  {
   "cell_type": "code",
   "execution_count": null,
   "metadata": {
    "collapsed": true
   },
   "outputs": [],
   "source": [
    "for fruit in ['bannana','orange','mango']:\n",
    "    if fruit != 'orange':\n",
    "        print(fruit.upper())"
   ]
  },
  {
   "cell_type": "code",
   "execution_count": null,
   "metadata": {
    "collapsed": true
   },
   "outputs": [],
   "source": [
    "for num in (2,4,1,34,5):\n",
    "    print(num-30)"
   ]
  },
  {
   "cell_type": "code",
   "execution_count": null,
   "metadata": {
    "collapsed": true
   },
   "outputs": [],
   "source": [
    "for num in range(10):\n",
    "    print(num)"
   ]
  },
  {
   "cell_type": "code",
   "execution_count": null,
   "metadata": {
    "collapsed": true
   },
   "outputs": [],
   "source": [
    "for num in range(10):\n",
    "    print(num+20)"
   ]
  },
  {
   "cell_type": "code",
   "execution_count": null,
   "metadata": {
    "collapsed": true
   },
   "outputs": [],
   "source": [
    "for num in range(-6,6):\n",
    "    print(num)"
   ]
  },
  {
   "cell_type": "code",
   "execution_count": null,
   "metadata": {
    "collapsed": true
   },
   "outputs": [],
   "source": [
    "for num in range(-10,-100,-30):\n",
    "    print(num)"
   ]
  },
  {
   "cell_type": "code",
   "execution_count": null,
   "metadata": {
    "collapsed": true
   },
   "outputs": [],
   "source": [
    "for num in range(0,20,4):\n",
    "    print(num)"
   ]
  },
  {
   "attachments": {
    "image.png": {
     "image/png": "[encoded data removed]"
    }
   },
   "cell_type": "markdown",
   "metadata": {},
   "source": [
    "<h5><center>Helpful Tips!</center></h5>\n",
    "\n",
    "![image.png](attachment:image.png)\n",
    "\n",
    "**Range function**\n",
    "The **range** function generates a list of numbers\n",
    "* **range ( num )** - generates a list of numbers from **0** to **'num - 1'**\n",
    "* **range ( start , limit )** - generates a list of numbers from **'start'** to **'limit - 1'**\n",
    "* **range ( start , limit , increment )** - generates a list of numbers from **'start'**, incrementing by **'increment'** until a number less or equal to **'limit - 1'**"
   ]
  },
  {
   "cell_type": "markdown",
   "metadata": {},
   "source": [
    "#### For..else loop blocks\n",
    "* A feature very unique to Python just like **'while..else'** block\n",
    "* The **'else'** block executes when the loop exits normally\n",
    "* The **'else'** block does not execute when the loop exits as a result of a break"
   ]
  },
  {
   "cell_type": "code",
   "execution_count": null,
   "metadata": {
    "collapsed": true
   },
   "outputs": [],
   "source": [
    "fruits = ['banana','apple','orange','tomato','pear']\n",
    "print('You have...')\n",
    "for f in fruits:\n",
    "    if f == 'tomato':\n",
    "        print('A tomato is not a fruit!')\n",
    "        break\n",
    "    print('A',f)\n",
    "else:\n",
    "    print('A fine selection of fruits!')"
   ]
  },
  {
   "cell_type": "markdown",
   "metadata": {},
   "source": [
    "# Exercise 3\n",
    "#### DNA to RNA Transcription\n",
    "The process of converting DNA to RNA<br>\n",
    "G->C<br>\n",
    "C->G<br>\n",
    "A->T<br>\n",
    "T->A<br>\n",
    "Example:<br>\n",
    "**Input:** GCTAGCCTACG<br>\n",
    "**Output:** CGATCGGATGC\n",
    "\n",
    "Write a program that takes a DNA string input from a user and transcripes the string into an RNA string using rules above\n",
    "* Your program should be case insensitive\n",
    "* The program should exit if any other letter aside G,C, A nad T is encountered in the DNA string\n",
    "* Your program should output the RNA string in upper cases"
   ]
  },
  {
   "cell_type": "code",
   "execution_count": null,
   "metadata": {
    "collapsed": true
   },
   "outputs": [],
   "source": [
    "# Take input for DNA string and store in a variable DNA_string\n",
    "DNA_string = '' # Replace this line with the right code\n",
    "\n",
    "# Intialize the RNA output as an empty string\n",
    "RNA_string = ''\n",
    "\n",
    "# Use \"for\" loop to traverse the DNA string. Use \"If..elif..else\" sub block to check and concactenate the appropriate letter \n",
    "# to RNA_string.\n",
    "# Use \"else\" block in the \"If..elif..else\" sub block to output an error message and break if a diffrent letter is encountered\n",
    "\n",
    "for i in DNA_string.upper():\n",
    "    # the upper() method is used to make our program case insensitive\n",
    "    if i == 'G':\n",
    "        RNA_string = RNA_string + 'C'\n",
    "    # Continue the \"elif\" blocks of the \"If..elif..else\" block for the other letters\n",
    "    \n",
    "    \n",
    "    \n",
    "    \n",
    "    # Complete the \"If..elif..else\" block with \"else\" block for an error message assigned to RNA_string \n",
    "    # break out of the loop\n",
    "\n",
    "    \n",
    "else:\n",
    "    # This else is attached to the for loop\n",
    "    print('Done with Translation')\n",
    "\n",
    "print('DNA output: ', RNA_string)"
   ]
  },
  {
   "cell_type": "markdown",
   "metadata": {},
   "source": [
    "# Functions\n",
    "* A block of code, organized to perform an action and to be reusable\n",
    "* Two types of functions\n",
    " * **System Defined** functions like **print**, **range**, **input**, etc. These are already defined once you install Python\n",
    " * **Use Defined** function defined by the programmer\n",
    "\n",
    "### Defining a User Defined Function\n",
    "* Begins with keyword **'def'** followed by the function name and parentheses **( )**\n",
    "* Any input parameter/arguments should be placed within these parentheses. Multiple inputs are seperated by commas **( , )** \n",
    "* Code block starts with colon (**:**) and is indented\n",
    "* **'return'** statement is optional and it exits a function\n",
    "* **'return expression'** statement passes back an expression or value to the caller of the function. \n",
    "* A fuction returns multiple values or objects as a list\n",
    "\n",
    "**def function name ( [ parameter[s] ] ) :**\n",
    "<br>\n",
    "$\\;\\;\\;\\;\\;\\;$**function body**\n",
    "<br>\n",
    "$\\;\\;\\;\\;\\;\\;$**[return expression]**"
   ]
  },
  {
   "cell_type": "code",
   "execution_count": null,
   "metadata": {
    "collapsed": true
   },
   "outputs": [],
   "source": [
    "def printme(str):\n",
    "    #This prints a string passed into the function\n",
    "    print(str)"
   ]
  },
  {
   "cell_type": "markdown",
   "metadata": {},
   "source": [
    "### Calling a Function\n",
    "* After the basic structure is finalized, we can execute by either\n",
    " * Calling it from same script or another script or function\n",
    " * Calling it directly from command prompt"
   ]
  },
  {
   "cell_type": "code",
   "execution_count": null,
   "metadata": {
    "collapsed": true
   },
   "outputs": [],
   "source": [
    "# Function call\n",
    "printme('First call to user defined function')\n",
    "printme('Second call to user defined function')"
   ]
  },
  {
   "cell_type": "markdown",
   "metadata": {},
   "source": [
    "# Variable Scope (Global vs. Local variables)\n",
    "* Variables defined outside a function body have a Global scope. (Accesssible anywhere within the program)\n",
    "* Variables defined inside a function body have a Local scope. (Accesssible only within the fuction even if it has the same name as another)"
   ]
  },
  {
   "cell_type": "code",
   "execution_count": null,
   "metadata": {
    "collapsed": true
   },
   "outputs": [],
   "source": [
    "pressure = 103.9 # 'pressure' is Global\n",
    "k = 0 # 'k' is Global\n",
    "def adjaust(t):\n",
    "    # 'k' is Local to this function and has different value from Global 'k'\n",
    "    k = 1.43\n",
    "    temperature = t * 1.43 / pressure # 'temperature' is Local to function\n",
    "    return(temperature)"
   ]
  },
  {
   "cell_type": "markdown",
   "metadata": {},
   "source": [
    "# Exercise 4\n",
    "### Convert the UC 6+2 program to a function\n",
    "Create a funtion to generate and return UC 6+2 ID for a given first & last name.\n",
    "NB: Convert the UC 6+2 program done in Introduction tp Python into a function. You may start afresh if you were not in that workshop\n",
    "\n",
    "1. The inputs should be the first name and last name in that order\n",
    "2. If the length of the last name is >=6, take the first 6 letters from the last name & first and last letters from the first name to form the six plus two.\n",
    "3. If the length of the last name is <6, take all of the last name, pick first letters of first name to make up for the length the last name & first and last letters from the remainder of the first name\n",
    "4. Return the six plus two in lower case"
   ]
  },
  {
   "cell_type": "code",
   "execution_count": null,
   "metadata": {
    "collapsed": true
   },
   "outputs": [],
   "source": [
    "def uc_6_2(first_name,last_name):\n",
    "    # Use the appropriate If and else Decision Block with a condition that compares the Length of the Last name\n",
    "    # In the If and else Decision Block store the six plus two in a variable\n",
    "    # Use the Tips below in your If and else Decision Block\n",
    "    if len(last_name) >= 6:\n",
    "        six_plus_2 = '' # Replace this line with the right code\n",
    "        \n",
    "    # Continue the \"If..elif..else\" block with the appropriate block for the remaining scenario\n",
    "    \n",
    "    # Return the six plus two in lower case\n",
    "    return \n",
    "\n",
    "\n",
    "\n",
    "# Tips (Replace the portions marked as with ?)\n",
    "# ********************************************\n",
    "# For length of the last name is >=6, sixplus2 = last_name[0:?] + first_name[0] + first_name[?]\n",
    "# For length of the last name is <6, sixplus2 = last_name + first_name[0:(6-len(?)+1)] + first_name[?]"
   ]
  },
  {
   "cell_type": "code",
   "execution_count": null,
   "metadata": {
    "collapsed": true
   },
   "outputs": [],
   "source": [
    "uc_6_2('Joshua','Anoint')"
   ]
  },
  {
   "cell_type": "markdown",
   "metadata": {},
   "source": [
    "<h1><center>5 MINUTES BREAK</center></h1>"
   ]
  },
  {
   "cell_type": "markdown",
   "metadata": {},
   "source": [
    "# Classes and Objects\n",
    "### Some OOP Terminologies\n",
    "Python supports object-oriented programming (OOP). Some OOP terminologies include;\n",
    "#### Class\n",
    "* Prototype for objects that defines a set of attributes that characterize any object of the class.\n",
    "* There are two types of classes. **System Defined** and **Use Defined** classes\n",
    "* Example of a system defined class is the **'str'** class for string literals\n",
    "\n",
    "#### Object\n",
    "* Unique instance of a class\n",
    "* It comprises both data members and methods as defined by its class"
   ]
  },
  {
   "cell_type": "code",
   "execution_count": null,
   "metadata": {
    "collapsed": true
   },
   "outputs": [],
   "source": [
    "var = 'This is a string object'"
   ]
  },
  {
   "cell_type": "markdown",
   "metadata": {},
   "source": [
    "* **'var'** is an object of String class\n",
    "\n",
    "#### Instantiation\n",
    "* The creation of an object (instance of a class)\n",
    "\n",
    "#### Attributes\n",
    "* Data members and methods, accessed via dot notation\n",
    "\n",
    "#### Data member\n",
    "* Holds data associated with a class and its objects\n",
    "* May be a class variable or instance variable\n",
    "\n",
    "#### Class variable\n",
    "* Shared by all instances of a class\n",
    "* Defined within a class but outside any of the class's methods\n",
    "\n",
    "####  Instance variable\n",
    "* Defined inside a method and belongs only to the current instance/object\n",
    "\n",
    "#### Method\n",
    "* A special kind of function that is defined in a class definition"
   ]
  },
  {
   "cell_type": "code",
   "execution_count": null,
   "metadata": {
    "collapsed": true
   },
   "outputs": [],
   "source": [
    "var.upper()"
   ]
  },
  {
   "cell_type": "markdown",
   "metadata": {},
   "source": [
    "### Defining a User-defined class\n",
    "* To create your own class Begins with keyword **'class'** followed by the class name\n",
    "\n",
    "  **class ClassName :**\n",
    "<br>\n",
    "  $\\;\\;\\;\\;\\;\\;$**[ class variables ] # shared among all instances of a this class**\n",
    "<br>\n",
    "  $\\;\\;\\;\\;\\;\\;$**[return expression]**\n",
    "<br>\n",
    "  $\\;\\;\\;\\;\\;\\;$**def __init__(self[,class_parameter[s]]) :**\n",
    "<br>\n",
    "  $\\;\\;\\;\\;\\;\\;\\;\\;\\;\\;\\;\\;$**[self.instance_variables[s] = class_parameter[s] ]**\n",
    "<br>\n",
    "  $\\;\\;\\;\\;\\;\\;\\;\\;\\;\\;\\;\\;$**[init method body]**\n",
    "<br>\n",
    "  $\\;\\;\\;\\;\\;\\;$**[class body]**\n",
    "<br><br>  \n",
    "* By convention class names begin with an initial caps\n",
    "* Includes a compulsory intial method **'\\__init__( )'**<br> \n",
    "  (**NB**: **'\\__'** is double underscore)\n",
    "  Python calls this method when you create a new instance of this class\n",
    "* **'\\__init__( )'** may includes optional parameters that may be required at initialization of the class\n",
    "* Class body are all statements defining attributes (data and methods)\n",
    "* All other class methods are normal functions except that the **first compulsory** argument to each method is **'self'**\n",
    "* See example below"
   ]
  },
  {
   "cell_type": "code",
   "execution_count": null,
   "metadata": {
    "collapsed": true
   },
   "outputs": [],
   "source": [
    "class Employee:\n",
    "    # A class variable\n",
    "    empCount = 0\n",
    "    # Compulsory initial method. Notice the compulsory self arguments\n",
    "    def __init__(self, name, salary):\n",
    "        self.name = name\n",
    "        self.salary = salary\n",
    "        Employee.empCount += 1 # Notice how class variables are referenced\n",
    "    # First method. Notice the compulsory self arguments\n",
    "    def displayCount(self):\n",
    "        print (\"This Employee # %d\" % Employee.empCount)\n",
    "    # Second method. Notice the compulsory self arguments\n",
    "    def displayEmployee(self, increment):\n",
    "        print (\"Name : \", self.name, \", Salary: \", str(self.salary), \", Next year Salary: \" + str(self.salary+increment))"
   ]
  },
  {
   "cell_type": "markdown",
   "metadata": {},
   "source": [
    "**Creating an Object of class Employee**"
   ]
  },
  {
   "cell_type": "code",
   "execution_count": null,
   "metadata": {
    "collapsed": true
   },
   "outputs": [],
   "source": [
    "emp1 = Employee(\"Zara\", 2000)"
   ]
  },
  {
   "cell_type": "markdown",
   "metadata": {},
   "source": [
    "**Calling a method**"
   ]
  },
  {
   "cell_type": "code",
   "execution_count": null,
   "metadata": {
    "collapsed": true
   },
   "outputs": [],
   "source": [
    "emp1.displayCount()"
   ]
  },
  {
   "cell_type": "markdown",
   "metadata": {},
   "source": [
    "**Craeting another object**"
   ]
  },
  {
   "cell_type": "code",
   "execution_count": null,
   "metadata": {
    "collapsed": true
   },
   "outputs": [],
   "source": [
    "emp2 = Employee(\"Manni\", 5000)"
   ]
  },
  {
   "cell_type": "markdown",
   "metadata": {},
   "source": [
    "**Calling another method**"
   ]
  },
  {
   "cell_type": "code",
   "execution_count": null,
   "metadata": {
    "collapsed": true
   },
   "outputs": [],
   "source": [
    "emp2.displayEmployee(200)"
   ]
  },
  {
   "cell_type": "markdown",
   "metadata": {},
   "source": [
    "**A class variable**"
   ]
  },
  {
   "cell_type": "code",
   "execution_count": null,
   "metadata": {
    "collapsed": true
   },
   "outputs": [],
   "source": [
    "Employee.empCount"
   ]
  },
  {
   "cell_type": "markdown",
   "metadata": {},
   "source": [
    "**An instance variable**"
   ]
  },
  {
   "cell_type": "code",
   "execution_count": null,
   "metadata": {
    "collapsed": true
   },
   "outputs": [],
   "source": [
    "emp1.name"
   ]
  },
  {
   "cell_type": "code",
   "execution_count": null,
   "metadata": {
    "collapsed": true
   },
   "outputs": [],
   "source": [
    "print(\"Total number of Employees is %d\" % Employee.empCount)\n",
    "print(\"Same as %d\" % emp1.empCount, \", Same as %d\" % emp2.empCount)\n",
    "print(\"Name of second employee is\", emp2.name)"
   ]
  },
  {
   "cell_type": "markdown",
   "metadata": {},
   "source": [
    "# Modules and imports\n",
    "* A Module is a file that contains definitions - including functions, variables and classes - that you can use once it is imported\n",
    "* A module can also include runnable code\n",
    "* Two types of modules\n",
    " * **System-defined** - Built-in modules like **'random'** located in **'random.py'** file\n",
    " * **User-defined** - Put all the related codes and defnitions in a single file and save as **'.py'**\n",
    "\n",
    "### Creating a User-defined class\n",
    "To create a module called **'support'**\n",
    "* Open an empty script\n",
    "* Write your code and definitions. Use example below\n",
    "  \n",
    "  **pressure = 103.9**\n",
    "  <br>\n",
    "  **def adding(x , y):**\n",
    "  <br>\n",
    "  $\\;\\;\\;\\;\\;\\;$**return x + y**\n",
    "  <br>\n",
    "  **def subtr(x , y):**\n",
    "  <br>\n",
    "  $\\;\\;\\;\\;\\;\\;$**return x - y**\n",
    "  \n",
    "  \n",
    "* Save script as **'support.py'**\n",
    "\n",
    "### Importing Modules\n",
    "Use **'import'** command to load a library into a program's memory\n",
    "\n",
    "#### Generic import\n",
    "Import only whole module(s)\n",
    "\n",
    "*Syntax*:\n",
    "<br>\n",
    "**import module_1 [ ,module_2 ][ ,...module_N ]**\n",
    "\n",
    "*Usage*:"
   ]
  },
  {
   "cell_type": "code",
   "execution_count": null,
   "metadata": {
    "collapsed": true
   },
   "outputs": [],
   "source": [
    "import support\n",
    "import math, random\n",
    "print(support.pressure)\n",
    "v = support.adding(2,3)\n",
    "print(v)"
   ]
  },
  {
   "cell_type": "markdown",
   "metadata": {},
   "source": [
    "#### Generic import with alias\n",
    "*Syntax*:\n",
    "<br>\n",
    "**import module_1 [ as m_1[,module_2[ as m_2[,...module_N[ as m_N]**\n",
    "\n",
    "*Usage*:"
   ]
  },
  {
   "cell_type": "code",
   "execution_count": null,
   "metadata": {
    "collapsed": true
   },
   "outputs": [],
   "source": [
    "import math as m, support as s\n",
    "v = s.adding(2,3)\n",
    "print(v)"
   ]
  },
  {
   "cell_type": "markdown",
   "metadata": {},
   "source": [
    "#### Specific items import \n",
    "Load only specific items from module\n",
    "\n",
    "*Syntax*:\n",
    "<br>\n",
    "**from module_name import item_1[ , item_2 [ ,...item_N]**\n",
    "\n",
    "*Usage*:"
   ]
  },
  {
   "cell_type": "code",
   "execution_count": null,
   "metadata": {
    "collapsed": true
   },
   "outputs": [],
   "source": [
    "from support import adding\n",
    "v = adding(2,3)\n",
    "print(v)"
   ]
  },
  {
   "cell_type": "markdown",
   "metadata": {},
   "source": [
    "#### Universal import\n",
    "Import all items in a module individually\n",
    "\n",
    "*Syntax*:\n",
    "<br>\n",
    "**from module_name import ***\n",
    "\n",
    "*Usage*:"
   ]
  },
  {
   "cell_type": "code",
   "execution_count": null,
   "metadata": {
    "collapsed": true
   },
   "outputs": [],
   "source": [
    "from support import *\n",
    "v = adding(2,3)\n",
    "u = subtr(2,3)\n",
    "print(u)\n",
    "print(v)"
   ]
  },
  {
   "cell_type": "markdown",
   "metadata": {},
   "source": [
    "# Exercise 5\n",
    "### Creating a Module with a Function and Class definitions\n",
    "1. Create a module with the following entities\n",
    "   * A function called **'demographics'** to asks a user for their firts name, last name and year of birth and returns these values in that order.<br>\n",
    "     NB: Remember the **input( )** or **raw_iput( )** functions for Python 3 and 2 respectively.\n",
    "   * A fuction called **'uc_6_2'** with two string inputs (two names of a person with the firt name as first input). This fuction returns the UC 6+2\n",
    "   * A class called **'Student'** with the following attributes\n",
    "     * Takes three string input(First name, last name, and year of birth in that order) to create an object of this class\n",
    "     * A **'student_count'** CLASS VARIABLE to track the count of every student object created so to use them in creating a student number for each student\n",
    "     * A method called **'student_number'** to return the student number. A student number is the **student's yeaar of birth** + **student's count**\n",
    "     * A method called **'student_id'** calls the **'uc_6_2'** function to return the student ID\n",
    "   * Save the module as **'uc_student.py'**\n",
    "<br><br>  \n",
    "2. Imports the uc_student.py module into your session\n",
    "   * Create 3 student objects using the following steps\n",
    "     * For each student call the **'demographics( )'** function as save the output in a variable\n",
    "     * Use the information provided to create a student object\n",
    "   * Print the student number and student id of each student object\n",
    "   * Print the total nubmber of students"
   ]
  },
  {
   "cell_type": "markdown",
   "metadata": {},
   "source": [
    "### Solving Part 2 of Exercise\n",
    "**Import the ' uc_student ' module into your session with an alias**"
   ]
  },
  {
   "cell_type": "code",
   "execution_count": null,
   "metadata": {
    "collapsed": true
   },
   "outputs": [],
   "source": []
  },
  {
   "cell_type": "markdown",
   "metadata": {},
   "source": [
    "**Call the ' demographics ' function to take inputs for first student and store in a variable**"
   ]
  },
  {
   "cell_type": "code",
   "execution_count": null,
   "metadata": {
    "collapsed": true
   },
   "outputs": [],
   "source": []
  },
  {
   "cell_type": "markdown",
   "metadata": {},
   "source": [
    "**Call the ' Student ' class create first student object using the list saved in the command above and sore in a variable**"
   ]
  },
  {
   "cell_type": "code",
   "execution_count": null,
   "metadata": {
    "collapsed": true
   },
   "outputs": [],
   "source": []
  },
  {
   "cell_type": "markdown",
   "metadata": {},
   "source": [
    "**Call the ' demographics ' function to take inputs for second student and store in a variable**"
   ]
  },
  {
   "cell_type": "code",
   "execution_count": null,
   "metadata": {
    "collapsed": true
   },
   "outputs": [],
   "source": []
  },
  {
   "cell_type": "markdown",
   "metadata": {},
   "source": [
    "**Call the ' Student ' class create second student object using the list saved in the command above and sore in a variable**"
   ]
  },
  {
   "cell_type": "code",
   "execution_count": null,
   "metadata": {
    "collapsed": true
   },
   "outputs": [],
   "source": []
  },
  {
   "cell_type": "markdown",
   "metadata": {},
   "source": [
    "**Call the ' demographics ' function to take inputs for third student and store in a variable**"
   ]
  },
  {
   "cell_type": "code",
   "execution_count": null,
   "metadata": {
    "collapsed": true
   },
   "outputs": [],
   "source": []
  },
  {
   "cell_type": "markdown",
   "metadata": {},
   "source": [
    "**Call the ' Student ' class create third student object using the list saved in the command above and sore in a variable**"
   ]
  },
  {
   "cell_type": "code",
   "execution_count": null,
   "metadata": {
    "collapsed": true
   },
   "outputs": [],
   "source": []
  },
  {
   "cell_type": "markdown",
   "metadata": {},
   "source": [
    "**Print the student number and student id of each student object**\n",
    "\n",
    "**Hint:** Replace the **?** in below command with appropriate code.\n",
    "<br>\n",
    "Do this for all three student objects in the cell below\n",
    "<br>\n",
    "**print ( 'Number of First Student : ', ? , ' ; ID of First Student : ', ? )**"
   ]
  },
  {
   "cell_type": "code",
   "execution_count": null,
   "metadata": {
    "collapsed": true
   },
   "outputs": [],
   "source": []
  },
  {
   "cell_type": "markdown",
   "metadata": {},
   "source": [
    "# Packages in Python\n",
    "* A hierarchical file directory structure containing modules and subfoldersand sub-subfolders as subpackages or subsubpackages\n",
    "* It helps organize projects files in a single Python application environment\n",
    "* Each folder has a file called **'\\__init__.py'**\n",
    "* You can create your own Package\n",
    "* **'\\__init__.py'** file contains imports statements for modules in the folder and other code to be executed\n",
    "* The Package or folder can be imported using the folder name. Same import rules discussed earlier apply\n",
    "* When a Package is imported, it is initialized by running the **'\\__init__.py'** file\n",
    "* **System-defined** Packages - Already Built-in modules. An example is the **'email'** package for managing email messages\n",
    "* **User-defined** Packages - You can create your own Package. See example"
   ]
  },
  {
   "cell_type": "code",
   "execution_count": null,
   "metadata": {
    "collapsed": true
   },
   "outputs": [],
   "source": [
    "import MyPackage as m"
   ]
  },
  {
   "cell_type": "code",
   "execution_count": null,
   "metadata": {
    "collapsed": true
   },
   "outputs": [],
   "source": [
    "m.uc_student.demographics()"
   ]
  },
  {
   "cell_type": "code",
   "execution_count": null,
   "metadata": {
    "collapsed": true
   },
   "outputs": [],
   "source": [
    "m.uc_6_2('Joshua','Anointed')"
   ]
  },
  {
   "cell_type": "markdown",
   "metadata": {},
   "source": [
    "# Libraries\n",
    "* A Library is a collection of modules and Packages that can be used by other python programs\n",
    "* The python community use the words **package** and **library** interchangeable\n",
    "\n",
    "### Python Standard Library\n",
    "* Python has a Standard Library containing **System-defined** modules and packages\n",
    "* The Python Standard Library is downloaded on local drive when Python is installed\n",
    "* For More info at https://docs.python.org/3/library/\n",
    "\n",
    "### Additional/External Libraries\n",
    "* Many other modules and packages created by the Python community and third-party teams are kept on Libraries outside of the Standard Library\n",
    "* The **Python Package Index (PyPI)** is the official third-party software repository or library for Python\n",
    "* Many definitions created by the Python community and third-party teams are shared on PyPI\n",
    "* More info on PyPI at https://pypi.org/\n",
    "* There are other External Libraries aside PyPI\n",
    "* You may use a package management system like **'pip'** to install a Package from PyPI and other sources\n",
    "* Popular packages not on the Standard Library include **numpy** for multi-dimensional arrays, **matplotlib** for plotting and graphs and **pandas** for data manipulation and analysis. Thes are available on PyPI\n",
    "\n",
    "### Installing external Packages via command line using 'pip'\n",
    "* **'pip'** can install from\n",
    " * PyPI (Python Package Index)\n",
    " * Local directories\n",
    " * Remote source archives\n",
    " * urls with VCS support using url prefixes ( 'git+', 'hg+', 'bzr+', 'svn+' for Git, Mercurial, Subversion and Bazaar respectively)\n",
    "* **'pip'** uses PyPI as the default source for packages and their dependencies\n",
    "* Open Command Prompt for Windows or Terminal for Mac or Linux to install a package via **'pip'** \n",
    "\n",
    " *Syntax for installing from PyPI*:\n",
    " <br>\n",
    " **pip install package-name [==[~[<[>[>=[<=[version]**\n",
    "\n",
    " *Usage*:\n",
    " <br>\n",
    " **pip install numpy**\n",
    "* More info on installing packages on PyPI and other sources visit using **'pip'** at\n",
    " * https://packaging.python.org/tutorials/installing-packages/\n",
    " * https://pip.pypa.io/en/latest/reference/pip_install/\n",
    " \n",
    "### Prerequisites to using 'pip' on command line\n",
    "#### Ensure you can run Python and **'pip'** from the command line\n",
    " * Open Command Prompt for Windows or Terminal for Mac or Linux\n",
    " * Type the command<br> \n",
    "   **python --version**<br>\n",
    "   **pip**<br>\n",
    "   **pip --version**\n",
    " * An error indicates that Path Variable in the environment variables is not properly set up for Python and **'pip'**\n",
    "\n",
    "#### Setting the Path Variable for Python and 'pip'\n",
    "***Windows***\n",
    "* *Option 1*<br>\n",
    "  Run the commands below on Command Prompt<br>\n",
    "  **path %path%;C:\\Python27**<br>\n",
    "  **path %path%;C:\\Python27\\Scripts**<br>\n",
    "* *Option 2*\n",
    "  * Open the folder **'C:\\Python27\\Tools\\Scripts'** \n",
    "  * Run the script **'win_add2path.py'** with an IDE\n",
    "\n",
    "***Linux/Mac***<br>\n",
    "Run below commands on Terminal\n",
    "* *csh shell*<br>\n",
    "  **setenv PATH \"\\$PATH:/usr/local/bin/python\"**<br>\n",
    "  **setenv PATH \"\\$PATH:/usr/local/bin/python/Scripts\"**\n",
    "* *bash shell*<br>\n",
    "  **export PATH=\"\\$PATH:/usr/local/bin/python\"**<br>\n",
    "  **export PATH=\"\\$PATH:/usr/local/bin/python/Scripts\"**\n",
    "* *sh or ksh shell*<br>\n",
    "  **PATH=\"\\$PATH:/usr/local/bin/python\"**<br>\n",
    "  **PATH=\"\\$PATH:/usr/local/bin/python/Scripts\"**\n",
    "\n",
    "<br>\n",
    "**More info on setting up Python and pip for command line on**<br>\n",
    "https://packaging.python.org/guides/installing-using-linux-tools/<br>\n",
    "https://www.tutorialspoint.com/python/python_environment.htm\n",
    "\n",
    "### Anaconda Distribution Library\n",
    "* Anaconda Distribution comes along with many packages\n",
    "* Some packages are pre-installed when you install Anaconda.\n",
    "* The library can be accessed using the Anaconda Navigator tool\n",
    "* See all packages in the Anoconda library on the Package list available at https://docs.anaconda.com/anaconda/packages/pkg-docs/\n",
    "* Packages that are not in the Anoconda library may be installed using **'pip'**\n",
    "\n",
    "\n",
    "# Using Pandas (Python Data Analysis Library) in Python\n",
    "* **Python Data Analysis Library** shortened as **pandas** \n",
    "* The **pandas** package is one of the best options for working with tabular data in Python\n",
    "* **pandas** ingest data as Dataframe objects and works with both Dataframes and Serieses\n",
    "\n",
    "### What is a Python Dataframe?\n",
    "* 2-dimensional data structure that can store data of different types (including characters, integers, floating point values, factors and more) in a tabular form. Each row holds information for each column.\n",
    "* Similar to a spreadsheet or an SQL table or the **'data.frame'** in R. \n",
    "* Dataframes have indexes starting fron 0. \n",
    "* An index refers to the position of an element in the data structure.\n",
    "\n",
    "### What is a Python Series?\n",
    "* A series is a one-dimensional structure like an associative array. \n",
    "* Serieses have indexes starting fron 0.\n",
    "* An index refers to the position of a value in the data structure.\n",
    "\n",
    "### A little more notes on pandas\n",
    "* **pandas** uses sequential indexes by default\n",
    "* **pandas** provides data structures, produces high quality plots with **matplotlib** (a Pyhton package graphing) and integrates nicely with other libraries that use **NumPy** (a Python package for arrays processing).\n",
    "* Operations on **numpy** arrays also work on **pandas** Series \n",
    "\n",
    "**Importing Pandas**"
   ]
  },
  {
   "cell_type": "code",
   "execution_count": null,
   "metadata": {
    "collapsed": true
   },
   "outputs": [],
   "source": [
    "import pandas as pd"
   ]
  },
  {
   "cell_type": "markdown",
   "metadata": {},
   "source": [
    "### Our Data\n",
    "We will be using files from the [Portal Project Teaching Database](https://figshare.com/articles/Portal_Project_Teaching_Database/1314459). This section will use the **'surveys.csv'** file, stored as a **'.csv'** and can be downloaded here: https://ndownloader.figshare.com/files/2292172<br>\n",
    "We are studying the species and weight of animals caught in sites in our study area.<br>\n",
    "Each row holds information for a single animal, and the columns represent:\n",
    "\n",
    "| **Column**      | **Description**               |\n",
    "|:----------------|:------------------------------|\n",
    "| record_id       | Unique id for the observation |\n",
    "| month           | month of observation          |\n",
    "| day             | day of observation            |\n",
    "| year            | year of observation           |\n",
    "| plot_id         | ID of a particular site       |\n",
    "| species_id      | 2-letter code for a species   |\n",
    "| sex             | sex of animal (“M”, “F”)      |\n",
    "| hindfoot_length | length of the hindfoot in mm  |\n",
    "| weight          | weight of the animal in grams |\n",
    "\n",
    "### Reading CSV Data Using Pandas - *pd.read_csv( )* function\n",
    "The pandas **'read_csv'** function pulls import from **'.csv'** files into a Dataframe objects\n",
    "\n",
    "*Syntax*:<br>\n",
    "**dataframe_object = pd.read_csv( file_path_name )**\n",
    "\n",
    "*Usage*:"
   ]
  },
  {
   "cell_type": "code",
   "execution_count": null,
   "metadata": {
    "collapsed": true
   },
   "outputs": [],
   "source": [
    "surveys_df = pd.read_csv(\"data/surveys.csv\")\n",
    "surveys_df"
   ]
  },
  {
   "cell_type": "markdown",
   "metadata": {},
   "source": [
    "### Dataframe '*dtypes*' data attribute\n",
    "Shows the the data types of the values in the columns.\n",
    "\n",
    "*Syntax*:<br>\n",
    "**data_frame_object_name.dtypes**\n",
    "\n",
    "*Usage*:"
   ]
  },
  {
   "cell_type": "code",
   "execution_count": null,
   "metadata": {
    "collapsed": true
   },
   "outputs": [],
   "source": [
    "surveys_df.dtypes"
   ]
  },
  {
   "cell_type": "markdown",
   "metadata": {},
   "source": [
    "### Dataframe '*columns*' data attribute\n",
    "Shows an index list of all the column names in the DataFrame.\n",
    "\n",
    "*Syntax*:<br>\n",
    "**data_frame_object_name.columns**\n",
    "\n",
    "*Usage*:"
   ]
  },
  {
   "cell_type": "code",
   "execution_count": null,
   "metadata": {
    "collapsed": true
   },
   "outputs": [],
   "source": [
    "surveys_df.columns"
   ]
  },
  {
   "cell_type": "code",
   "execution_count": null,
   "metadata": {
    "collapsed": true
   },
   "outputs": [],
   "source": [
    "surveys_df.columns[0:4]"
   ]
  },
  {
   "cell_type": "markdown",
   "metadata": {},
   "source": [
    "### Selecting data using Column Names\n",
    "* DataFrame objects are treated like dictionaries using column heads as keys\n",
    "* We use square brackets **[ ]** to select column data and for indexing<br>\n",
    "\n",
    "*Syntax*:<br>\n",
    "**data_frame_object_name [ 'column_name' ]**\n",
    "\n",
    "*Usage*:"
   ]
  },
  {
   "cell_type": "code",
   "execution_count": null,
   "metadata": {
    "collapsed": true
   },
   "outputs": [],
   "source": [
    "surveys_df['record_id']"
   ]
  },
  {
   "cell_type": "markdown",
   "metadata": {},
   "source": [
    "* You may selct more than one column at a time by making a list of the column names<br>\n",
    "\n",
    "*Syntax*:<br>\n",
    "**data_frame_object_name [ [ 'column_name_1' , 'column_name_2' ] ]**\n",
    "\n",
    "*Usage*:"
   ]
  },
  {
   "cell_type": "code",
   "execution_count": null,
   "metadata": {
    "collapsed": true
   },
   "outputs": [],
   "source": [
    "surveys_df[['month', 'day']]"
   ]
  },
  {
   "cell_type": "markdown",
   "metadata": {},
   "source": [
    "* You may select a column data aslo by using the column name as an 'attribute'<br>\n",
    "\n",
    "*Syntax*:<br>\n",
    "**data_frame_object_name.column_name**\n",
    "\n",
    "*Usage*:"
   ]
  },
  {
   "cell_type": "markdown",
   "metadata": {},
   "source": [
    "### Selecting Unique values from a column using pandas *'unique'* function\n",
    "The pandas.unique() function tells us all of the unique values in a column\n",
    "\n",
    "\n",
    "*Syntax*:<br>\n",
    "**pd.unique ( data_frame_object_name [ 'column_name' ] )**<br>\n",
    "or<br>\n",
    "**pd.unique ( data_frame_object_name.column_name )**\n",
    "\n",
    "*Usage*:"
   ]
  },
  {
   "cell_type": "code",
   "execution_count": null,
   "metadata": {
    "collapsed": true
   },
   "outputs": [],
   "source": [
    "pd.unique(surveys_df['species_id'])"
   ]
  },
  {
   "cell_type": "code",
   "execution_count": null,
   "metadata": {
    "collapsed": true
   },
   "outputs": [],
   "source": [
    "pd.unique(surveys_df.species_id)"
   ]
  },
  {
   "cell_type": "markdown",
   "metadata": {},
   "source": [
    "### Creating Queries on Dataframes\n",
    "Similar to SQL and R, we can select a subset of our data using criteria\n",
    "\n",
    "*Syntax*:<br>\n",
    "**data_frame_object_name [ < condition > ] **<br>\n",
    "\n",
    "**# Conditions must be based on columns names**\n",
    "\n",
    "*Usage*:"
   ]
  },
  {
   "cell_type": "code",
   "execution_count": null,
   "metadata": {
    "collapsed": true
   },
   "outputs": [],
   "source": [
    "surveys_df[surveys_df.weight == 88]"
   ]
  },
  {
   "cell_type": "code",
   "execution_count": null,
   "metadata": {
    "collapsed": true
   },
   "outputs": [],
   "source": [
    "surveys_df[surveys_df.month == surveys_df.plot_id].head()"
   ]
  },
  {
   "cell_type": "markdown",
   "metadata": {},
   "source": [
    "### Quick & Easy Plotting Data Using Pandas *plot(  )* method\n",
    "We can plot our summary stats using Pandas using the pandas **'plot (  )'** method\n",
    "\n",
    "**Lets see the number of animals per species**"
   ]
  },
  {
   "cell_type": "code",
   "execution_count": null,
   "metadata": {
    "collapsed": true
   },
   "outputs": [],
   "source": [
    "species_counts = surveys_df.groupby('species_id')['record_id'].count()\n",
    "species_counts"
   ]
  },
  {
   "cell_type": "markdown",
   "metadata": {},
   "source": [
    "***We can make figures appear in-line within the notebook by executing:**<br>\n",
    "\n",
    "**%matplotlib inline**\n",
    "\n",
    "***' matplotlib '* package should already be installed via *' pip '* or you may get an error message**"
   ]
  },
  {
   "cell_type": "code",
   "execution_count": null,
   "metadata": {
    "collapsed": true
   },
   "outputs": [],
   "source": [
    "# Make sure figures appear inline in Ipython Notebook\n",
    "%matplotlib inline"
   ]
  },
  {
   "cell_type": "code",
   "execution_count": null,
   "metadata": {
    "collapsed": true
   },
   "outputs": [],
   "source": [
    "species_counts.plot(kind='bar')"
   ]
  },
  {
   "cell_type": "code",
   "execution_count": null,
   "metadata": {
    "collapsed": true
   },
   "outputs": [],
   "source": [
    "species_counts.plot(kind='pie',title=\"Number of animals per species\")"
   ]
  },
  {
   "cell_type": "markdown",
   "metadata": {},
   "source": [
    "# Advanced and Future Topics\n",
    "* Error Handling and Exceptions\n",
    "* List Comprehension\n",
    "* Rgular Expressions\n",
    "* Database Access\n",
    "* Multithreading\n",
    "\n",
    "# Helpful Resources\n",
    "* CEAS Library Python resources - http://guides.libraries.uc.edu/python\n",
    "* Online links & tutorials\n",
    " * Various python workshops on Data Carpentry - https://datacarpentry.org/lessons/\n",
    " * Python documentation - https://www.python.org/doc/\n",
    " * Python Programming wiki book - http://en.wikibooks.org/wiki/Python_Programming\n",
    " * Python tutorials - Udemy, Code academy, etc  "
   ]
  },
  {
   "cell_type": "markdown",
   "metadata": {},
   "source": [
    "# $\\;\\;\\;\\;\\;\\;\\;\\;\\;\\;\\;\\;\\;\\;\\;\\;\\;\\;\\;\\;\\;\\;\\;\\;\\;\\;\\;\\;\\;\\;\\;\\;\\;$Questions ??\n",
    "\n",
    "#  $\\;\\;\\;\\;\\;\\;\\;\\;\\;\\;\\;\\;\\;\\;\\;\\;\\;\\;\\;\\;\\;\\;\\;\\;\\;\\;\\;\\;\\;\\;\\;\\;\\;\\;\\;\\;$Survey\n",
    "### $\\;\\;\\;\\;\\;\\;\\;\\;\\;\\;\\;\\;\\;\\;\\;\\;\\;\\;\\;\\;\\;\\;\\;\\;\\;\\;\\;$https://www.surveymonkey.com/r/sla-python-19May30\n",
    "\n",
    "\n",
    "\n",
    "\n",
    "\n",
    "\n",
    "# $\\;\\;\\;\\;\\;\\;\\;\\;\\;\\;\\;\\;\\;\\;\\;\\;\\;\\;\\;\\;\\;$ Pick one of the solution manuals\n",
    "$\\;\\;\\;\\;\\;\\;\\;\\;\\;\\;\\;\\;\\;\\;\\;\\;\\;\\;\\;\\;\\;\\;\\;\\;\\;\\;\\;\\;\\;\\;\\;\\;\\;\\;\\;\\;\\;\\;\\;\\;\\;\\;\\;\\;\\;\\;\\;\\;\\;\\;\\;\\;\\;\\;\\;\\;\\;\\;$**Thank you for attending the workshop !!**\n",
    "\n",
    "\n",
    "$\\;\\;\\;\\;\\;\\;\\;\\;\\;\\;\\;\\;\\;\\;\\;\\;\\;\\;\\;\\;\\;\\;\\;\\;\\;\\;\\;\\;\\;\\;\\;\\;\\;\\;\\;\\;\\;\\;\\;\\;\\;\\;\\;\\;\\;\\;$**Your kind suggestions/feedbacks are more than welcome**"
   ]
  }
 ],
 "metadata": {
  "kernelspec": {
   "display_name": "Python 3",
   "language": "python",
   "name": "python3"
  },
  "language_info": {
   "codemirror_mode": {
    "name": "ipython",
    "version": 3
   },
   "file_extension": ".py",
   "mimetype": "text/x-python",
   "name": "python",
   "nbconvert_exporter": "python",
   "pygments_lexer": "ipython3",
   "version": "3.6.1"
  }
 },
 "nbformat": 4,
 "nbformat_minor": 2
}
